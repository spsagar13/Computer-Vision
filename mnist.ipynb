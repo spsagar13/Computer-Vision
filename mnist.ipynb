{
 "cells": [
  {
   "cell_type": "code",
   "execution_count": 4,
   "metadata": {},
   "outputs": [
    {
     "name": "stdout",
     "output_type": "stream",
     "text": [
      "Epoch 1/5\n",
      "1875/1875 [==============================] - 14s 7ms/step - loss: 0.3115\n",
      "Epoch 2/5\n",
      "1875/1875 [==============================] - 14s 7ms/step - loss: 0.0722\n",
      "Epoch 3/5\n",
      "1875/1875 [==============================] - 14s 8ms/step - loss: 0.0450\n",
      "Epoch 4/5\n",
      "1875/1875 [==============================] - 14s 7ms/step - loss: 0.0285\n",
      "Epoch 5/5\n",
      "1875/1875 [==============================] - 13s 7ms/step - loss: 0.0210\n",
      "313/313 [==============================] - 1s 3ms/step - loss: 0.0686\n",
      "[3.0464451e-09 5.8987815e-09 2.1594272e-07 2.9238388e-06 1.0058711e-12\n",
      " 1.5386371e-08 2.3202179e-13 9.9999678e-01 2.1174913e-10 5.8991894e-08]\n",
      "7\n"
     ]
    }
   ],
   "source": [
    "import tensorflow as tf\n",
    "from tensorflow import keras\n",
    "import numpy as np\n",
    "\n",
    "mnist = tf.keras.datasets.mnist\n",
    "\n",
    "(train_images, train_labels),(test_images,test_labels) = mnist.load_data()\n",
    "\n",
    "train_images, test_images = train_images/255.0, test_images/255.0\n",
    "\n",
    "m_model = tf.keras.models.Sequential()\n",
    "\n",
    "m_model.add(tf.keras.layers.Flatten())\n",
    "m_model.add(tf.keras.layers.Dense(1024, activation=tf.nn.relu))\n",
    "m_model.add(tf.keras.layers.Dense(10, activation=tf.nn.softmax))\n",
    "\n",
    "m_model.compile(optimizer=tf.optimizers.Adam(), loss='sparse_categorical_crossentropy')\n",
    "\n",
    "m_model.fit(train_images, train_labels, epochs=5)\n",
    "\n",
    "m_model.evaluate(test_images,test_labels)\n",
    "\n",
    "classifications = m_model.predict(test_images)\n",
    "\n",
    "print(classifications[0])\n",
    "print(test_labels[0])"
   ]
  },
  {
   "cell_type": "code",
   "execution_count": 6,
   "metadata": {},
   "outputs": [
    {
     "name": "stdout",
     "output_type": "stream",
     "text": [
      "Epoch 1/5\n",
      "1875/1875 [==============================] - 24s 12ms/step - loss: 0.2991\n",
      "Epoch 2/5\n",
      "1875/1875 [==============================] - 22s 12ms/step - loss: 0.0744\n",
      "Epoch 3/5\n",
      "1875/1875 [==============================] - 23s 12ms/step - loss: 0.0524\n",
      "Epoch 4/5\n",
      "1875/1875 [==============================] - 22s 12ms/step - loss: 0.0391\n",
      "Epoch 5/5\n",
      "1875/1875 [==============================] - 22s 12ms/step - loss: 0.0314\n",
      "313/313 [==============================] - 1s 3ms/step - loss: 0.0804\n",
      "[1.5016141e-09 1.4100959e-08 8.6826063e-10 5.1165352e-09 1.7622318e-08\n",
      " 1.5865142e-12 6.8835292e-16 9.9998999e-01 1.5859472e-10 9.9693279e-06]\n",
      "7\n"
     ]
    }
   ],
   "source": [
    "mnist = tf.keras.datasets.mnist\n",
    "\n",
    "(train_images, train_labels),(test_images,test_labels) = mnist.load_data()\n",
    "\n",
    "train_images, test_images = train_images/255.0, test_images/255.0\n",
    "\n",
    "m_model = tf.keras.models.Sequential()\n",
    "\n",
    "m_model.add(tf.keras.layers.Flatten())\n",
    "m_model.add(tf.keras.layers.Dense(1024, activation=tf.nn.relu))\n",
    "m_model.add(tf.keras.layers.Dense(512, activation=tf.nn.relu))\n",
    "m_model.add(tf.keras.layers.Dense(10, activation=tf.nn.softmax))\n",
    "\n",
    "m_model.compile(optimizer=tf.optimizers.Adam(), loss='sparse_categorical_crossentropy')\n",
    "\n",
    "m_model.fit(train_images, train_labels, epochs=5)\n",
    "\n",
    "m_model.evaluate(test_images,test_labels)\n",
    "\n",
    "classifications = m_model.predict(test_images)\n",
    "\n",
    "print(classifications[0])\n",
    "print(test_labels[0])"
   ]
  },
  {
   "cell_type": "markdown",
   "metadata": {},
   "source": [
    "# with callback and stopping the training"
   ]
  },
  {
   "cell_type": "code",
   "execution_count": 1,
   "metadata": {},
   "outputs": [
    {
     "name": "stdout",
     "output_type": "stream",
     "text": [
      "Epoch 1/5\n",
      "1875/1875 [==============================] - 13s 7ms/step - loss: 7.5246\n",
      "Epoch 2/5\n",
      "1875/1875 [==============================] - 13s 7ms/step - loss: 0.3200\n",
      "\n",
      "Reached 60% accuracy. Cancelling training\n",
      "313/313 [==============================] - 1s 2ms/step - loss: 0.5146\n",
      "[0.0000000e+00 2.8820890e-34 5.6091608e-27 2.7010282e-24 0.0000000e+00\n",
      " 0.0000000e+00 0.0000000e+00 1.0000000e+00 0.0000000e+00 1.2687927e-26]\n",
      "7\n"
     ]
    }
   ],
   "source": [
    "import tensorflow as tf\n",
    "\n",
    "mnist = tf.keras.datasets.mnist\n",
    "\n",
    "(train_images, train_labels),(test_images,test_labels) = mnist.load_data()\n",
    "\n",
    "class myCallback(tf.keras.callbacks.Callback):\n",
    "    def on_epoch_end(self, epoch, logs={}):\n",
    "        if(logs.get('loss')<0.4):\n",
    "            print(\"\\nReached 60% accuracy. Cancelling training\")\n",
    "            self.model.stop_training = True\n",
    "\n",
    "callbacks = myCallback()\n",
    "\n",
    "m_model = tf.keras.models.Sequential()\n",
    "\n",
    "m_model.add(tf.keras.layers.Flatten())\n",
    "m_model.add(tf.keras.layers.Dense(1024, activation=tf.nn.relu))\n",
    "m_model.add(tf.keras.layers.Dense(10, activation=tf.nn.softmax))\n",
    "\n",
    "m_model.compile(optimizer=tf.optimizers.Adam(), loss='sparse_categorical_crossentropy')\n",
    "\n",
    "m_model.fit(train_images, train_labels, epochs=5, callbacks=[callbacks])\n",
    "\n",
    "m_model.evaluate(test_images,test_labels)\n",
    "\n",
    "classifications = m_model.predict(test_images)\n",
    "\n",
    "print(classifications[0])\n",
    "print(test_labels[0])"
   ]
  }
 ],
 "metadata": {
  "kernelspec": {
   "display_name": "Python 3",
   "language": "python",
   "name": "python3"
  },
  "language_info": {
   "codemirror_mode": {
    "name": "ipython",
    "version": 3
   },
   "file_extension": ".py",
   "mimetype": "text/x-python",
   "name": "python",
   "nbconvert_exporter": "python",
   "pygments_lexer": "ipython3",
   "version": "3.8.5"
  }
 },
 "nbformat": 4,
 "nbformat_minor": 4
}
